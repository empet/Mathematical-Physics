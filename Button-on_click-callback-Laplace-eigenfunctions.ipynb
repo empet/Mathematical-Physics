{
 "cells": [
  {
   "cell_type": "markdown",
   "metadata": {},
   "source": [
    "## <center> Numerical computation and visualization of the  Laplacian eigenfunctions<br><br>Button `on_click` callback function </center>"
   ]
  },
  {
   "cell_type": "markdown",
   "metadata": {},
   "source": [
    "The numerical computation of eigenvalues of differential operators is\n",
    "usually performed following two main philosophies. On the one hand,\n",
    "one starts out with a discretization of the differential operator by a\n",
    "finite dimensional matrix approximation obtained by finite differences,\n",
    "finite elements, or any other numerical method. The spectrum of the\n",
    "approximation is then taken as an approximation to the spectrum of the\n",
    "original differential operator."
   ]
  },
  {
   "cell_type": "markdown",
   "metadata": {},
   "source": [
    "The properties of Laplacian eigenvalues and eigenfunctions have been investigated in many scientific\n",
    "disciplines,  theory of acoustical, optical, and quantum waveguides, condensed\n",
    "matter physics and quantum mechanics, quantum graphs, image processing, computer\n",
    "graphics,  biology and more.\n",
    "\n",
    "Nowadays,  eigenfunctions of the Laplace operator have applications in Data Science and Machine Learning,\n",
    "for face recognition, clustering,  nonlinear image denoising and segmentation,  mapping of protein energy landscapes, and more.\n",
    "A google search reveals more examples."
   ]
  },
  {
   "cell_type": "markdown",
   "metadata": {},
   "source": [
    "To get an idea of their properties,  we illustrate here how to compute the spectrum of the Laplace operator, $\\Delta u=\\lambda u,$ \n",
    "$$\\Delta=\\displaystyle\\frac{\\partial^2}{\\partial x^2}+\\displaystyle\\frac{\\partial^2}{\\partial y^2},$$ \n",
    "on a bounded planar domain."
   ]
  },
  {
   "cell_type": "markdown",
   "metadata": {},
   "source": [
    "The bounded domain is represented by a binary np.array, with 0 inside the domain and 1 outside it.\n",
    "\n",
    "In this example we take the Maui island [https://mauiguide.com/maps/](https://mauiguide.com/maps/) as a bounded irregular 2d domain. A png image of this island was previously processed in order to extract a representative binary array."
   ]
  },
  {
   "cell_type": "code",
   "execution_count": 1,
   "metadata": {},
   "outputs": [
    {
     "name": "stdout",
     "output_type": "stream",
     "text": [
      "Python version: 3.7.1\n",
      "Plotly version: 3.8.1\n"
     ]
    }
   ],
   "source": [
    "import platform\n",
    "import plotly\n",
    "print(f'Python version: {platform.python_version()}')\n",
    "print(f'Plotly version: {plotly.__version__}')"
   ]
  },
  {
   "cell_type": "code",
   "execution_count": 2,
   "metadata": {},
   "outputs": [],
   "source": [
    "import numpy as np \n",
    "import scipy.sparse\n",
    "from scipy.sparse import linalg\n",
    "import plotly.graph_objs as go\n",
    "import ipywidgets as ipw"
   ]
  },
  {
   "cell_type": "markdown",
   "metadata": {},
   "source": [
    "Read the binary array previously created and saved as a `npy` file:"
   ]
  },
  {
   "cell_type": "code",
   "execution_count": 3,
   "metadata": {},
   "outputs": [],
   "source": [
    "bimg = np.load('maui.npy') #https://github.com/empet/Mathematical-Physics/blob/master/data/maui.npy\n",
    "if bimg.shape[0] != bimg.shape[1]:\n",
    "    raise ValueError('The code below works with arrays of shape (n,n)')\n",
    "vals = np.unique(bimg)  \n",
    "if len(vals) != 2 or 0 or 1 not in vals:\n",
    "    raise ValueError('Your array is not binary')\n",
    "bimg = np.array(bimg, float)\n",
    "bimg = np.flipud(bimg)"
   ]
  },
  {
   "cell_type": "markdown",
   "metadata": {},
   "source": [
    "Perform the numerical discretization of the Helmholz equation $\\Delta u=-\\lambda u$ with Dirichlet boundary condition\n",
    " on this special domain.\n",
    " \n",
    "For a better performance we are working with `scipy.sparse` matrices."
   ]
  },
  {
   "cell_type": "code",
   "execution_count": 4,
   "metadata": {},
   "outputs": [],
   "source": [
    "newimg = bimg + 1e-05 # a slight perturbation of the binary array\n",
    "n = newimg.shape[0]\n",
    "e = np.ones(n)\n",
    "diagonal_vals = np.array([-e, e, -e])\n",
    "partial_x = scipy.sparse.spdiags(diagonal_vals, np.array([-1, 0, n-1]), n, n)\n",
    "\n",
    "gradient = scipy.sparse.vstack([scipy.sparse.kron(partial_x, scipy.sparse.eye(n)), \n",
    "                                scipy.sparse.kron(scipy.sparse.eye(n), partial_x)])\n",
    "\n",
    "img_as_row = np.concatenate((newimg.flatten(), newimg.flatten()))\n",
    "Laplace = gradient.transpose()*scipy.sparse.spdiags(img_as_row, [0], 2*n**2, 2*n**2)*gradient \n",
    "k = 12"
   ]
  },
  {
   "cell_type": "markdown",
   "metadata": {},
   "source": [
    "Compute the k smalllest eigenvalues and eigenfunctions of the Laplace operator, [https://docs.scipy.org/doc/scipy/reference/generated/scipy.sparse.linalg.eigs.html](https://docs.scipy.org/doc/scipy/reference/generated/scipy.sparse.linalg.eigs.html),  with shift-invert mode corresponding to `sigma`=0.\n",
    "In this case the transformed eigenvalues are `eigvals'=1/(eigvals-sigma)=1/eigvals`.\n",
    "With the option `which='LM'` we get the k largest `eigvals'`, i.e.  the smallest \n",
    "eigenvalues of the original problem."
   ]
  },
  {
   "cell_type": "markdown",
   "metadata": {},
   "source": [
    "`Laplace.todense()` is a symmetric positive matrix of dimension $n^2 \\times n^2$. The eigenvalues of the Laplace matrix  are ordered as follows:\n",
    "\n",
    "$$0\\leq\\lambda_0\\leq \\lambda_1 \\leq \\cdots \\lambda_{n^2-1}$$"
   ]
  },
  {
   "cell_type": "code",
   "execution_count": 5,
   "metadata": {},
   "outputs": [
    {
     "data": {
      "text/plain": [
       "(22500, 22500)"
      ]
     },
     "execution_count": 5,
     "metadata": {},
     "output_type": "execute_result"
    }
   ],
   "source": [
    "Laplace.todense().shape"
   ]
  },
  {
   "cell_type": "markdown",
   "metadata": {},
   "source": [
    "Extract the first k=12 eigenvalues and eigenvectors (discretized eigenfunctions):"
   ]
  },
  {
   "cell_type": "code",
   "execution_count": 6,
   "metadata": {},
   "outputs": [
    {
     "name": "stdout",
     "output_type": "stream",
     "text": [
      "Eigenvalue 0: 0.00000000\n",
      "Eigenvalue 1: 0.00000004\n",
      "Eigenvalue 2: 0.00000007\n",
      "Eigenvalue 3: 0.00000008\n",
      "Eigenvalue 4: 0.00000011\n",
      "Eigenvalue 5: 0.00000013\n",
      "Eigenvalue 6: 0.00000014\n",
      "Eigenvalue 7: 0.00000016\n",
      "Eigenvalue 8: 0.00000017\n",
      "Eigenvalue 9: 0.00000021\n",
      "Eigenvalue 10: 0.00000021\n",
      "Eigenvalue 11: 0.00000025\n"
     ]
    }
   ],
   "source": [
    "eigvals, u = scipy.sparse.linalg.eigsh(Laplace, k, which='LM', sigma=0) \n",
    "\n",
    "for j in range(k):\n",
    "    print( f\"Eigenvalue {j}: \" +\"{:.8f}\".format(eigvals[j]) )"
   ]
  },
  {
   "cell_type": "code",
   "execution_count": 7,
   "metadata": {},
   "outputs": [],
   "source": [
    "eigenf = np.zeros((n, n, k)) #an array consisting in  stacked eigenfunctions\n",
    "for i in range(k):\n",
    "    uu = u[:,i].reshape((n, n)) #reshape the i^th eigenvector to create a contour trace from it\n",
    "    uu = uu / np.max(np.fabs(uu)) # normalize the image representing the eigenfunction u[:,i]\n",
    "    uu[bimg==1] = np.nan\n",
    "    eigenf[:, :, i] = uu "
   ]
  },
  {
   "cell_type": "code",
   "execution_count": 8,
   "metadata": {},
   "outputs": [],
   "source": [
    "pl_RdYlBu = [[0.0, 'rgb(49, 54, 149)'],\n",
    "            [0.1, 'rgb(68, 115, 179)'],\n",
    "            [0.2, 'rgb(116, 173, 209)'],\n",
    "            [0.3, 'rgb(169, 216, 232)'],\n",
    "            [0.4, 'rgb(224, 243, 248)'],\n",
    "            [0.5, 'rgb(254, 254, 190)'],\n",
    "            [0.6, 'rgb(254, 224, 144)'],\n",
    "            [0.7, 'rgb(252, 172, 96)'],\n",
    "            [0.8, 'rgb(244, 109, 67)'],\n",
    "            [0.9, 'rgb(214, 47, 38)'],\n",
    "            [1.0, 'rgb(165, 0, 38)']]\n"
   ]
  },
  {
   "cell_type": "markdown",
   "metadata": {},
   "source": [
    "Define the contour  trace representing the eigenfunction corresponding to the lowest eigenvalue=0. This eigenfunction is constant on the chosen domain. Hence its `go.FigureWidget` instance is not so interesting like those corresponding to nearby eigenvalues."
   ]
  },
  {
   "cell_type": "code",
   "execution_count": 9,
   "metadata": {},
   "outputs": [],
   "source": [
    "trace = dict(type='contour',\n",
    "             z=bimg.tolist(), # since this eigenfucntion is constant it can be represented by bimg\n",
    "             colorscale=pl_RdYlBu,\n",
    "             reversescale=True,\n",
    "             colorbar=dict(thickness=20, ticklen=4), \n",
    "             contours=dict(start=-1, end=1, size=0.125), \n",
    "             line=dict(width=0.5, color='rgb(200,200,200)'))"
   ]
  },
  {
   "cell_type": "code",
   "execution_count": 10,
   "metadata": {},
   "outputs": [],
   "source": [
    "layout = dict(title=f\"Maui island\",\n",
    "              font=dict(family='Balto',\n",
    "                        size=12),\n",
    "              width=500, height=500, \n",
    "              xaxis=dict(visible=False), \n",
    "              yaxis=dict(visible=False), \n",
    "              plot_bgcolor='rgb(0, 101, 93)')#'rgb(49, 54, 149)')\n",
    "\n",
    "fw = go.FigureWidget(data=[trace], layout=layout)"
   ]
  },
  {
   "cell_type": "markdown",
   "metadata": {},
   "source": [
    "Define a button widget and a callback function that `on_click` updates the `FigureWidget` to get the eigenfunction of the next eigenvalue\n",
    "in the list of 12 eigenvalues computed above:"
   ]
  },
  {
   "cell_type": "code",
   "execution_count": 11,
   "metadata": {},
   "outputs": [
    {
     "data": {
      "application/vnd.jupyter.widget-view+json": {
       "model_id": "d736f361db2044cab2ecf73e8513601c",
       "version_major": 2,
       "version_minor": 0
      },
      "text/plain": [
       "VBox(children=(FigureWidget({\n",
       "    'data': [{'colorbar': {'thickness': 20, 'ticklen': 4},\n",
       "              'colors…"
      ]
     },
     "metadata": {},
     "output_type": "display_data"
    }
   ],
   "source": [
    "button=ipw.Button(description='Click me!',\n",
    "                  layout=dict(margin='-50px 10px 10px 80px', width='100px') )\n",
    "\n",
    "i=0\n",
    "def click(b):\n",
    "    global i, eigvals\n",
    "    i += 1\n",
    "    j = i % 12\n",
    "    with fw.batch_animate():\n",
    "        fw.data[0].z = eigenf[:, :, j].tolist()\n",
    "        fw.layout.title = f\"Eigenfunction of the Laplace operator<br>corresponding to eigval={eigvals[j]:0.8f}\"    \n",
    "            \n",
    "button.on_click(click)\n",
    "ipw.VBox([fw, button])"
   ]
  },
  {
   "cell_type": "markdown",
   "metadata": {},
   "source": [
    "To see the above code in action just run this notebook. Here we illustrate the image of the eigenfunction corresponding to\n",
    "the eigenvalue $\\lambda=0.00000014$:"
   ]
  },
  {
   "cell_type": "code",
   "execution_count": 12,
   "metadata": {},
   "outputs": [
    {
     "data": {
      "text/html": [
       "\n",
       "        <iframe\n",
       "            width=\"700\"\n",
       "            height=\"500\"\n",
       "            src=\"https://plot.ly/~empet/14997\"\n",
       "            frameborder=\"0\"\n",
       "            allowfullscreen\n",
       "        ></iframe>\n",
       "        "
      ],
      "text/plain": [
       "<IPython.lib.display.IFrame at 0x2af4779ea20>"
      ]
     },
     "execution_count": 12,
     "metadata": {},
     "output_type": "execute_result"
    }
   ],
   "source": [
    "from IPython.display import IFrame\n",
    "IFrame('https://plot.ly/~empet/14997', width=700,  height=500)"
   ]
  },
  {
   "cell_type": "markdown",
   "metadata": {},
   "source": [
    "Animation of  the succesive plots of eigenfunctions generated on click, in the code above:"
   ]
  },
  {
   "cell_type": "code",
   "execution_count": 13,
   "metadata": {},
   "outputs": [
    {
     "data": {
      "text/html": [
       "<img src='laplace-maui.gif'>\n"
      ],
      "text/plain": [
       "<IPython.core.display.HTML object>"
      ]
     },
     "metadata": {},
     "output_type": "display_data"
    }
   ],
   "source": [
    "%%html\n",
    "<img src='laplace-maui.gif'>"
   ]
  },
  {
   "cell_type": "code",
   "execution_count": null,
   "metadata": {},
   "outputs": [],
   "source": [
    "."
   ]
  }
 ],
 "metadata": {
  "kernelspec": {
   "display_name": "Python 3",
   "language": "python",
   "name": "python3"
  },
  "language_info": {
   "codemirror_mode": {
    "name": "ipython",
    "version": 3
   },
   "file_extension": ".py",
   "mimetype": "text/x-python",
   "name": "python",
   "nbconvert_exporter": "python",
   "pygments_lexer": "ipython3",
   "version": "3.7.1"
  }
 },
 "nbformat": 4,
 "nbformat_minor": 2
}
