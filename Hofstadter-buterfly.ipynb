{
 "cells": [
  {
   "cell_type": "markdown",
   "metadata": {},
   "source": [
    "## <center> Hofstadter Butterfly </center> ##"
   ]
  },
  {
   "cell_type": "markdown",
   "metadata": {},
   "source": [
    "We generate a fractal like-structure, called the Hofstadter Butterfly, which represents the energy\n",
    "levels of  an electron travelling through a periodic lattice under the influence of a\n",
    "magnetic field."
   ]
  },
  {
   "cell_type": "markdown",
   "metadata": {},
   "source": [
    "The mathematical model related to the  Hamiltonian of an electron in a two dimensional lattice,\n",
    "subject to a perpendicular (uniform) magnetic field is the Almost Mathieu operator or Harper operator, which is \n",
    "a discrete one-dimensional Schrodinger operator that acts on the Hilbert space, $\\ell^2(\\mathbb{Z})$, of the infinite sequences. It is defined  by:\n",
    "\n",
    "$$(H_{\\Phi, K, \\theta}u)_n=u_{n+1}+u_{n-1}+K\\cos(n\\Phi +\\theta) u_n, \\quad\\Phi, K, \\theta\\in\\mathbb{R}$$"
   ]
  },
  {
   "cell_type": "markdown",
   "metadata": {},
   "source": [
    "When the magnetic flux  penetrating the lattice is a rational number, $\\Phi=p/q$, with $p,q$  relatively prime integers,\n",
    " the spectrum of the above operator splits  into q subbands.  \n",
    " \n",
    " The representation of the operator spectrum as a\n",
    "function of the rational flux exhibits a recursive structure with \n",
    "self-similarities. \n",
    "\n",
    "For a rational flux  $\\Phi=2\\pi p/q$, with $p, q$ relative prime integers, the potential $V_\\theta(n)=K\\cos(n\\Phi+\\theta)$\n",
    "is periodic and the eigenvalue problem:\n",
    "\n",
    "$$(H_{\\Phi, K, \\theta}u)_n=E u_n$$\n",
    "\n",
    "reduces to a matrix eigenvalue problem associated to the following periodic Jacobi matrix, called Harper matrix:\n",
    "\n",
    "$$\n",
    "Ha(p, q, K, \\theta)=\\left(\\begin{array}{ccccccc}K\\cos(2\\pi 0 p/q+\\theta)&1 &0&\\ldots&0& 0&1\\\\\n",
    "                       1& K\\cos(2\\pi  p/q+\\theta)&1&\\ldots&0&0&0\\\\\n",
    "                        \\vdots&\\vdots&\\vdots&\\ldots&\\vdots&\\vdots&\\vdots\\\\\n",
    "                         0&0&0&\\ldots&1&K\\cos(2\\pi (q-2) p/q+\\theta)&1\\\\\n",
    "                         1&0&0&\\ldots&0&1&K\\cos(2\\pi (q-1) p/q+\\theta)\\end{array}\\right)$$\n",
    "                         \n",
    "  \n",
    "\n",
    "\n",
    "The  scatter plot of all points of coordinates, $(p/q, E_n)$, with $p/q\\in[0,1)$, $n=1,2, \\ldots q$, and  $E_n$  running over the q eigenvalues of the Harper matrix   $Ha(p, q)$,\n",
    "corresponding to $K=2$, $\\theta=0$,  is called the Hofstadter butterfly, because it was generated first by Hofstadter in 1976.\n",
    "\n",
    "For  any $q<qmax$ we should compute the eigenvalues of all matrices $Ha(p, q)$, with $p\\in \\{1, 2, \\ldots q-1\\}$, such that\n",
    "$p, q$ are relatively prime numbers. But since $\\cos$ is an odd $2\\pi$-periodic function,  we have that   \n",
    "\n",
    "$$\\cos(2\\pi n p/q)=\\cos(2\\pi n(q-p)/q),$$ and thus\n",
    " $$Ha(p, q)=Ha(q-p)$$.\n",
    " \n",
    " Hence  only the spectrum of the Harper matrices $Ha(p, q)$, with\n",
    "$p\\in\\{1, 2, \\ldots, q//2\\}$, if $q$ is odd, respectively $p\\in\\{1, 2, \\ldots, q/2-1\\}$, if $q$ is even, will be calculated."
   ]
  },
  {
   "cell_type": "code",
   "execution_count": 1,
   "metadata": {},
   "outputs": [
    {
     "name": "stdout",
     "output_type": "stream",
     "text": [
      "Python version: 3.6.4\n"
     ]
    }
   ],
   "source": [
    "import platform\n",
    "print(f'Python version: {platform.python_version()}')"
   ]
  },
  {
   "cell_type": "code",
   "execution_count": 2,
   "metadata": {},
   "outputs": [
    {
     "data": {
      "text/plain": [
       "'3.1.1'"
      ]
     },
     "execution_count": 2,
     "metadata": {},
     "output_type": "execute_result"
    }
   ],
   "source": [
    "import plotly\n",
    "plotly.__version__"
   ]
  },
  {
   "cell_type": "code",
   "execution_count": 1,
   "metadata": {},
   "outputs": [],
   "source": [
    "import plotly.graph_objs as go\n",
    "import numpy as np\n",
    "from numpy import pi"
   ]
  },
  {
   "cell_type": "code",
   "execution_count": 2,
   "metadata": {},
   "outputs": [],
   "source": [
    "def Gear(n): \n",
    "    ''' Generates the  Gear-type matrix, i.e. the periodic Jacobi matrix G=(0,..0;1,...1; +1)\n",
    "    C.W. Gear, A simple set of test matrices for eigenvalue programs,\n",
    "     Math. Comp. 23, 119-125.\n",
    "     '''\n",
    "    G=np.diag(np.ones(n - 1), -1) + np.diag(np.ones(n - 1), 1)\n",
    "    \n",
    "    G[0][n-1]=1\n",
    "    G[n-1][0]=1\n",
    "    return G\n",
    "\n",
    "\n",
    "def eigs_Harper(p, q):\n",
    "   \n",
    "    d=[2*np.cos(2*np.pi*k*p/q) for k in range(q)] #define the diagonal of the Harper matrix   Ha(p,q)    \n",
    "    Hd= np.diag(d)\n",
    "    G = Gear(q)\n",
    "    \n",
    "    return list(np.linalg.eigvalsh(Hd+G))#eigenvalues of the Harper matrix \n",
    "\n",
    "def gcd(a, b): # Greatest Common Divisor\n",
    "    if b == 0: return a\n",
    "    return gcd(b, a % b)"
   ]
  },
  {
   "cell_type": "code",
   "execution_count": 3,
   "metadata": {},
   "outputs": [],
   "source": [
    "def get_butterfly_points_even(qmax=101):# for  qmax=101 value we define 1036 irreducible fractions p/q, \n",
    " \n",
    "    phi=[]# the list of  of rational magnetic flux values, p/q\n",
    "    E=[]# the list of energies\n",
    "    text=[]# the list of hover strings\n",
    "\n",
    "    for q in range(4, qmax, 2):    \n",
    "        for p in range(1, q//2, 2):\n",
    "            if gcd(p, q) == 1:\n",
    "                phi.extend([p/q]*q+ [(q-p)/q]*q) #insert q copies of  p/q, respectively (q-p)/q, \n",
    "                                           #because the corresponding Harper matrix H(p,q), resp H(q-p, p), has q eigvals\n",
    "                eigs_pq=eigs_Harper(p, q) \n",
    "                E.extend(eigs_pq*2)           \n",
    "                p_text=[f\"(p, q) = {(p,q)}\"]*q+[f\"(p,q) = {(q-p, q)}\"]*q\n",
    "                text.extend([f\"{t}<br>E = {round(e, 3)}\" for t, e in zip(p_text, eigs_pq*2)])\n",
    "    return phi, E, text"
   ]
  },
  {
   "cell_type": "code",
   "execution_count": 4,
   "metadata": {},
   "outputs": [],
   "source": [
    "def get_butterfly_points_odd(qmax=70):\n",
    "\n",
    "    phi=[]\n",
    "    E=[]\n",
    "    text=[]\n",
    "\n",
    "    for q in range(5, qmax, 1):    \n",
    "        for p in range(1, q//2+1, 1):\n",
    "            if gcd(p, q) == 1:\n",
    "                phi.extend([p/q]*q+ [(q-p)/q]*q) \n",
    "                eigs_pq=eigs_Harper(p, q) \n",
    "                E.extend(eigs_pq*2)           \n",
    "                p_text=[f\"(p, q) = {(p,q)}\"]*q+[f\"(p,q) = {(q-p, q)}\"]*q\n",
    "                text.extend([f\"{t}<br>E = {round(e, 3)}\" for t, e in zip(p_text, eigs_pq*2)])\n",
    "    return phi, E, text"
   ]
  },
  {
   "cell_type": "code",
   "execution_count": 5,
   "metadata": {},
   "outputs": [],
   "source": [
    "def get_butterfly_trace(phi, E, text, color='blue', marker_size=1):\n",
    "    return dict(type='scatter',\n",
    "                x=phi,\n",
    "                y=E,\n",
    "                mode='markers',\n",
    "                text=text,  \n",
    "                marker=dict(color=color, size=marker_size),\n",
    "                hoverinfo='text')"
   ]
  },
  {
   "cell_type": "markdown",
   "metadata": {},
   "source": [
    "Generating the butterfly data,  with the function `get_butterfly_points_odd()` and then via `get_butterfly_points_even()`\n",
    "we get two indistinguishable plots. \n",
    "\n",
    "The user can experiment plotting the Hofstadter butterfly associated to both data, succesively, or to their union. "
   ]
  },
  {
   "cell_type": "code",
   "execution_count": 6,
   "metadata": {},
   "outputs": [],
   "source": [
    "phi_e, E_e, text_e=get_butterfly_points_even(qmax=101)\n",
    "#phi_o, E_o, text_o=get_butterfly_points_odd(qmax=70)"
   ]
  },
  {
   "cell_type": "code",
   "execution_count": 7,
   "metadata": {},
   "outputs": [
    {
     "data": {
      "text/plain": [
       "69836"
      ]
     },
     "execution_count": 7,
     "metadata": {},
     "output_type": "execute_result"
    }
   ],
   "source": [
    "len(E_e)#points are plotted"
   ]
  },
  {
   "cell_type": "code",
   "execution_count": 9,
   "metadata": {},
   "outputs": [],
   "source": [
    "data=[get_butterfly_trace(phi_e, E_e, text_e)]"
   ]
  },
  {
   "cell_type": "code",
   "execution_count": 10,
   "metadata": {},
   "outputs": [],
   "source": [
    "axis_style=dict(showline=True, \n",
    "                mirror=True, \n",
    "                zeroline=False, \n",
    "                showgrid=False, \n",
    "                ticklen=4)"
   ]
  },
  {
   "cell_type": "code",
   "execution_count": 11,
   "metadata": {},
   "outputs": [],
   "source": [
    "layout=dict(title='Hofstadter butterfly',\n",
    "            font=dict(family='Balto'),\n",
    "            width=600, height=675,\n",
    "            autosize=False,\n",
    "            showlegend=False,\n",
    "            xaxis=dict(axis_style, **dict( title='Phi (magnetic flux)', dtick=0.25)),\n",
    "            yaxis=dict(axis_style, **dict( title='E (Energy)')),\n",
    "            hovermode='closest')"
   ]
  },
  {
   "cell_type": "code",
   "execution_count": 12,
   "metadata": {},
   "outputs": [],
   "source": [
    "fw=go.FigureWidget(data=data, layout=layout)"
   ]
  },
  {
   "cell_type": "code",
   "execution_count": null,
   "metadata": {},
   "outputs": [],
   "source": [
    "fw # running this cell will insert the FigureWidget in the next one"
   ]
  },
  {
   "cell_type": "markdown",
   "metadata": {},
   "source": [
    "To send the figure to Plotly cloud run the next cells:"
   ]
  },
  {
   "cell_type": "code",
   "execution_count": 13,
   "metadata": {},
   "outputs": [],
   "source": [
    "import plotly.plotly as py"
   ]
  },
  {
   "cell_type": "code",
   "execution_count": 14,
   "metadata": {},
   "outputs": [],
   "source": [
    "import warnings\n",
    "warnings.filterwarnings(\"ignore\")"
   ]
  },
  {
   "cell_type": "code",
   "execution_count": 18,
   "metadata": {},
   "outputs": [
    {
     "name": "stdout",
     "output_type": "stream",
     "text": [
      "The draw time for this plot will be slow for all clients.\n"
     ]
    },
    {
     "data": {
      "text/html": [
       "<iframe id=\"igraph\" scrolling=\"no\" style=\"border:none;\" seamless=\"seamless\" src=\"https://plot.ly/~empet/14979.embed\" height=\"675px\" width=\"600px\"></iframe>"
      ],
      "text/plain": [
       "<plotly.tools.PlotlyDisplay object>"
      ]
     },
     "execution_count": 18,
     "metadata": {},
     "output_type": "execute_result"
    }
   ],
   "source": [
    "py.sign_in('empet', 'api_key')\n",
    "py.iplot(fw, filename='Hofstadter1')"
   ]
  },
  {
   "cell_type": "code",
   "execution_count": null,
   "metadata": {},
   "outputs": [],
   "source": []
  }
 ],
 "metadata": {
  "kernelspec": {
   "display_name": "Python 3",
   "language": "python",
   "name": "python3"
  },
  "language_info": {
   "codemirror_mode": {
    "name": "ipython",
    "version": 3
   },
   "file_extension": ".py",
   "mimetype": "text/x-python",
   "name": "python",
   "nbconvert_exporter": "python",
   "pygments_lexer": "ipython3",
   "version": "3.6.4"
  }
 },
 "nbformat": 4,
 "nbformat_minor": 2
}
