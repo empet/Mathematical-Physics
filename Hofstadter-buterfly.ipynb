{
 "cells": [
  {
   "cell_type": "markdown",
   "metadata": {},
   "source": [
    "## <center> Hofstadter Butterfly </center> ##"
   ]
  },
  {
   "cell_type": "markdown",
   "metadata": {},
   "source": [
    "We generate a fractal like-structure, called the Hofstadter Butterfly, which represents the energy\n",
    "levels of  an electron travelling through a periodic lattice under the influence of a\n",
    "magnetic field."
   ]
  },
  {
   "cell_type": "markdown",
   "metadata": {},
   "source": [
    "The mathematical model related to the  Hamiltonian of an electron in a two dimensional lattice,\n",
    "subject to a perpendicular (uniform) magnetic field is the Almost Mathieu operator or Harper operator, which is \n",
    "a discrete one-dimensional Schrodinger operator that acts on the Hilbert space, $\\ell^2(\\mathbb{Z})$, of the infinite sequences. It is defined  by:\n",
    "\n",
    "$$(H_{\\Phi, K, \\theta}u)_n=u_{n+1}+u_{n-1}+K\\cos(n\\Phi +\\theta) u_n, \\quad\\Phi, K, \\theta\\in\\mathbb{R}$$"
   ]
  },
  {
   "cell_type": "markdown",
   "metadata": {},
   "source": [
    "When the magnetic flux  penetrating the lattice corresponds to a rational number $p/q$, i.e.  $\\Phi=2\\pi p/q$, with $p,q$  relative prime integers, the spectrum of the above operator splits  into q subbands.  \n",
    " \n",
    " \n",
    "For such a flux   the potential $V_\\theta(n)=K\\cos(2\\pi n p/q+\\theta)$\n",
    "is periodic and the eigenvalue problem:\n",
    "\n",
    "$$(H_{\\Phi, K, \\theta}u)_n=E u_n$$\n",
    "\n",
    "reduces to a matrix eigenvalue problem associated to the following periodic Jacobi matrices, called Harper matrices:\n",
    "\n",
    "$$\n",
    "Ha(p, q, K, \\theta, s)=\\left(\\begin{array}{ccccccc}K\\cos(2\\pi 0 p/q+\\theta)&1 &0&\\ldots&0& 0& s\\\\\n",
    "                       1& K\\cos(2\\pi  p/q+\\theta)&1&\\ldots&0&0&0\\\\\n",
    "                        \\vdots&\\vdots&\\vdots&\\ldots&\\vdots&\\vdots&\\vdots\\\\\n",
    "                         0&0&0&\\ldots&1&K\\cos(2\\pi (q-2) p/q+\\theta)&1\\\\\n",
    "                         s&0&0&\\ldots&0&1&K\\cos(2\\pi (q-1) p/q+\\theta)\\end{array}\\right)$$\n",
    "                         \n",
    "with $s=\\pm 1$.\n",
    "\n",
    "More precisely, the spectrum of the discrete Schrodinger operator, $\\sigma(H_{2\\pi p/q, K, \\theta})$ is a union of intervals (bands) whose ends are the interlacing eigenvalues of the two Harper type matrices $Ha(p,q, K, \\theta, 1)$, \n",
    "$Ha(p,q, K, \\theta, -1)$.\n",
    "\n",
    "\n",
    "The Hofstadter butterfly is a graphical representation   of\n",
    "all possible energies of the electron for all (or a a subset of ) rational values in  [0,1)  defining  the magnetic flux. It has the name of the physicist Hofstadter who generated it in 1976.\n",
    "\n",
    "Hence we have to plot  all points of coordinates, $(p/q, E_n)$, with $p/q\\in[0,1)$, $n=1,2, \\ldots q$. For each $p/q$,   $E_n$  runs over the q eigenvalues of the Harper matrix,   $Ha(p, q, s)$.\n",
    "\n",
    "For  any $q<qmax$ we should compute the eigenvalues of all matrices $Ha(p, q, s=1)$, with $p\\in \\{1, 2, \\ldots q-1\\}$, such that\n",
    "$p, q$ are relatively prime numbers. But since $\\cos$ is an odd $2\\pi$-periodic function,  we have that   \n",
    "\n",
    "$$\\cos(2\\pi n p/q)=\\cos(2\\pi n(q-p)/q),$$ and thus\n",
    " $$Ha(p, q, s)=Ha(q-p, s)$$.\n",
    " \n",
    " Hence  only the spectrum of the Harper matrices $Ha(p, q, s)$, with\n",
    "$p\\in\\{1, 2, \\ldots, q//2\\}$, if $q$ is odd, respectively $p\\in\\{1, 2, \\ldots, q/2-1\\}$, if $q$ is even, will be calculated."
   ]
  },
  {
   "cell_type": "code",
   "execution_count": 1,
   "metadata": {},
   "outputs": [
    {
     "name": "stdout",
     "output_type": "stream",
     "text": [
      "Python version: 3.6.4\n"
     ]
    }
   ],
   "source": [
    "import platform\n",
    "print(f'Python version: {platform.python_version()}')"
   ]
  },
  {
   "cell_type": "code",
   "execution_count": 2,
   "metadata": {},
   "outputs": [
    {
     "data": {
      "text/plain": [
       "'3.1.1'"
      ]
     },
     "execution_count": 2,
     "metadata": {},
     "output_type": "execute_result"
    }
   ],
   "source": [
    "import plotly\n",
    "plotly.__version__"
   ]
  },
  {
   "cell_type": "code",
   "execution_count": 3,
   "metadata": {},
   "outputs": [],
   "source": [
    "import plotly.graph_objs as go\n",
    "import numpy as np\n",
    "from numpy import pi"
   ]
  },
  {
   "cell_type": "markdown",
   "metadata": {},
   "source": [
    "We generate the Hofstadter butterfly associated to the Harper operator corresponding to K=2, $\\theta=0$ and s=1 (these parameters were used by Hofstadter himself in the first numerical computation\n",
    "                                                                                                                  of data)."
   ]
  },
  {
   "cell_type": "code",
   "execution_count": 4,
   "metadata": {},
   "outputs": [],
   "source": [
    "def Gear(n, s=1): \n",
    "    # Generates a  Gear-type matrix, i.e. a periodic Jacobi matrix G=(0,..0; 1,...1; +-1), with 0 on the principal diagonal\n",
    "    #  1  in the positions G[i][i+1], G[i-1][i], and G[0][n-1], G[n-1][0]=s with s=1 or -1\n",
    "    \n",
    "    G=np.diag(np.ones(n - 1), -1) + np.diag(np.ones(n - 1), 1)\n",
    "    \n",
    "    G[0][n-1]=s\n",
    "    G[n-1][0]=s\n",
    "    return G\n",
    "\n",
    "\n",
    "def eigs_Harper(p, q, s):\n",
    "   \n",
    "    d=[2*np.cos(2*np.pi*k*p/q) for k in range(q)] #define the diagonal of the Harper matrix   Ha(p,q)    \n",
    "    Hd= np.diag(d)\n",
    "    G = Gear(q, s)\n",
    "    \n",
    "    return list(np.linalg.eigvalsh(Hd+G))#eigenvalues of the Harper matrix \n",
    "\n",
    "def gcd(a, b): # Greatest Common Divisor\n",
    "    if b == 0: return a\n",
    "    return gcd(b, a % b)"
   ]
  },
  {
   "cell_type": "code",
   "execution_count": 5,
   "metadata": {},
   "outputs": [],
   "source": [
    "def get_butterfly_points_even(qmax=101, s=1):# for  qmax=101 value we define 1036 irreducible fractions p/q, \n",
    " \n",
    "    phi=[]# the list of  of rational magnetic flux values, p/q\n",
    "    E=[]# the list of energies\n",
    "    text=[]# the list of hover strings\n",
    "\n",
    "    for q in range(4, qmax, 2):    \n",
    "        for p in range(1, q//2, 2):\n",
    "            if gcd(p, q) == 1:\n",
    "                phi.extend([p/q]*q+ [(q-p)/q]*q) #insert q copies of  p/q, respectively (q-p)/q, \n",
    "                                           #because the corresponding Harper matrix H(p,q), resp H(q-p, p), has q eigvals\n",
    "                eigs_pq=eigs_Harper(p, q, s) \n",
    "                E.extend(eigs_pq*2)           \n",
    "                p_text=[f\"(p, q) = {(p,q)}\"]*q+[f\"(p,q) = {(q-p, q)}\"]*q\n",
    "                text.extend([f\"{t}<br>E = {round(e, 3)}\" for t, e in zip(p_text, eigs_pq*2)])\n",
    "    return phi, E, text"
   ]
  },
  {
   "cell_type": "code",
   "execution_count": 6,
   "metadata": {},
   "outputs": [],
   "source": [
    "def get_butterfly_points_odd(qmax=70, s=1):\n",
    "\n",
    "    phi=[]\n",
    "    E=[]\n",
    "    text=[]\n",
    "\n",
    "    for q in range(5, qmax, 1):    \n",
    "        for p in range(1, q//2+1, 1):\n",
    "            if gcd(p, q) == 1:\n",
    "                phi.extend([p/q]*q+ [(q-p)/q]*q) \n",
    "                eigs_pq=eigs_Harper(p, q, s) \n",
    "                E.extend(eigs_pq*2)           \n",
    "                p_text=[f\"(p, q) = {(p,q)}\"]*q+[f\"(p,q) = {(q-p, q)}\"]*q\n",
    "                text.extend([f\"{t}<br>E = {round(e, 3)}\" for t, e in zip(p_text, eigs_pq*2)])\n",
    "    return phi, E, text"
   ]
  },
  {
   "cell_type": "code",
   "execution_count": 7,
   "metadata": {},
   "outputs": [],
   "source": [
    "def get_butterfly_trace(phi, E, text, color='blue', marker_size=1):\n",
    "    return dict(type='scatter',\n",
    "                x=phi,\n",
    "                y=E,\n",
    "                mode='markers',\n",
    "                text=text,  \n",
    "                marker=dict(color=color, size=marker_size),\n",
    "                hoverinfo='text')"
   ]
  },
  {
   "cell_type": "markdown",
   "metadata": {},
   "source": [
    "At the first sight the effective computation of the spectrum for many Harper matrices seems to be cumbersome. But with Anaconda Python packages it is very fast, because Anaconda packaged MKL-powered binary versions of some of the most popular numerical/scientific Python libraries into MKL Optimizations that improve performance. (MKL stands for Intel™ Math Kernel Library, a set of vectorized math routines that accelerate math functions).\n"
   ]
  },
  {
   "cell_type": "markdown",
   "metadata": {},
   "source": [
    "Let us test `get_butterfly_points_even()`:"
   ]
  },
  {
   "cell_type": "code",
   "execution_count": 8,
   "metadata": {},
   "outputs": [
    {
     "name": "stdout",
     "output_type": "stream",
     "text": [
      "Wall time: 924 ms\n"
     ]
    }
   ],
   "source": [
    "%time phi1, E1, text1=get_butterfly_points_even(qmax=101)"
   ]
  },
  {
   "cell_type": "code",
   "execution_count": 9,
   "metadata": {},
   "outputs": [
    {
     "data": {
      "text/plain": [
       "69836"
      ]
     },
     "execution_count": 9,
     "metadata": {},
     "output_type": "execute_result"
    }
   ],
   "source": [
    "len(E1)#points are plotted"
   ]
  },
  {
   "cell_type": "markdown",
   "metadata": {},
   "source": [
    "Generating the butterfly data,  with the function `get_butterfly_points_odd()` and then via `get_butterfly_points_even()`, corresponding both to the same s, we get two indistinguishable plots. \n",
    "\n",
    "The user can experiment plotting the Hofstadter butterfly associated to both data, succesively, or to their union. "
   ]
  },
  {
   "cell_type": "code",
   "execution_count": 10,
   "metadata": {},
   "outputs": [],
   "source": [
    "data=[get_butterfly_trace(phi1, E1, text1)]"
   ]
  },
  {
   "cell_type": "code",
   "execution_count": 11,
   "metadata": {},
   "outputs": [],
   "source": [
    "axis_style=dict(showline=True, \n",
    "                mirror=True, \n",
    "                zeroline=False, \n",
    "                showgrid=False, \n",
    "                ticklen=4)"
   ]
  },
  {
   "cell_type": "code",
   "execution_count": 12,
   "metadata": {},
   "outputs": [],
   "source": [
    "layout=dict(title='Hofstadter butterfly<br> s=1',\n",
    "            font=dict(family='Balto'),\n",
    "            width=600, height=675,\n",
    "            autosize=False,\n",
    "            showlegend=False,\n",
    "            xaxis=dict(axis_style, **dict( title='Phi (magnetic flux)', dtick=0.25)),\n",
    "            yaxis=dict(axis_style, **dict( title='E (Energy)')),\n",
    "            hovermode='closest')"
   ]
  },
  {
   "cell_type": "code",
   "execution_count": 13,
   "metadata": {},
   "outputs": [],
   "source": [
    "fw=go.FigureWidget(data=data, layout=layout)"
   ]
  },
  {
   "cell_type": "code",
   "execution_count": null,
   "metadata": {},
   "outputs": [],
   "source": [
    "fw # running this cell  the FigureWidget is generated in the next one"
   ]
  },
  {
   "cell_type": "markdown",
   "metadata": {},
   "source": [
    "An alternative is to send the figure to Plotly cloud:"
   ]
  },
  {
   "cell_type": "code",
   "execution_count": 14,
   "metadata": {},
   "outputs": [
    {
     "name": "stdout",
     "output_type": "stream",
     "text": [
      "The draw time for this plot will be slow for all clients.\n"
     ]
    },
    {
     "data": {
      "text/html": [
       "<iframe id=\"igraph\" scrolling=\"no\" style=\"border:none;\" seamless=\"seamless\" src=\"https://plot.ly/~empet/14979.embed\" height=\"675px\" width=\"600px\"></iframe>"
      ],
      "text/plain": [
       "<plotly.tools.PlotlyDisplay object>"
      ]
     },
     "execution_count": 14,
     "metadata": {},
     "output_type": "execute_result"
    }
   ],
   "source": [
    "import plotly.plotly as py\n",
    "\n",
    "import warnings\n",
    "warnings.filterwarnings(\"ignore\")\n",
    "\n",
    "py.sign_in('empet', 'api_key')\n",
    "py.iplot(fw, filename='Hofstadter1')"
   ]
  },
  {
   "cell_type": "markdown",
   "metadata": {},
   "source": [
    "Now let us plot the Hofstadter butterfly corresponding to s=-1:"
   ]
  },
  {
   "cell_type": "code",
   "execution_count": 15,
   "metadata": {},
   "outputs": [],
   "source": [
    "phi_m1, E_m1, text_m1=get_butterfly_points_even(qmax=101, s=-1)\n",
    "data1=[get_butterfly_trace(phi_m1, E_m1, text_m1, color='red')]\n",
    "fw1=go.FigureWidget(data=data1, layout=layout)\n",
    "fw1.layout.title='Hofstadter butterfly<br> s = -1'"
   ]
  },
  {
   "cell_type": "code",
   "execution_count": null,
   "metadata": {},
   "outputs": [],
   "source": [
    "fw1"
   ]
  },
  {
   "cell_type": "code",
   "execution_count": 16,
   "metadata": {},
   "outputs": [
    {
     "name": "stdout",
     "output_type": "stream",
     "text": [
      "The draw time for this plot will be slow for all clients.\n"
     ]
    },
    {
     "data": {
      "text/html": [
       "<iframe id=\"igraph\" scrolling=\"no\" style=\"border:none;\" seamless=\"seamless\" src=\"https://plot.ly/~empet/14981.embed\" height=\"675px\" width=\"600px\"></iframe>"
      ],
      "text/plain": [
       "<plotly.tools.PlotlyDisplay object>"
      ]
     },
     "execution_count": 16,
     "metadata": {},
     "output_type": "execute_result"
    }
   ],
   "source": [
    "py.iplot(fw1, filename='Hofstadterm1')"
   ]
  },
  {
   "cell_type": "markdown",
   "metadata": {},
   "source": [
    "The two butterflies figures look very similar. Even if we plot them in the same figure, we cannot distinguish the red points from the blue points,\n",
    "because the distance between two consecutive eigenvalues, one in H(p,q, s=1) and another in H(p,q, s=-1) is very small."
   ]
  },
  {
   "cell_type": "markdown",
   "metadata": {},
   "source": [
    "For example:"
   ]
  },
  {
   "cell_type": "code",
   "execution_count": 17,
   "metadata": {},
   "outputs": [
    {
     "data": {
      "text/plain": [
       "[-2.698183697478866,\n",
       " -2.50205068512151,\n",
       " -2.4363187022725965,\n",
       " -0.6778990365402857,\n",
       " -0.2536753455832333,\n",
       " 0.25367534558323285,\n",
       " 0.6778990365402842,\n",
       " 2.4363187022725965,\n",
       " 2.5020506851215116,\n",
       " 2.698183697478866]"
      ]
     },
     "execution_count": 17,
     "metadata": {},
     "output_type": "execute_result"
    }
   ],
   "source": [
    "eigs_Harper(3, 10, 1)"
   ]
  },
  {
   "cell_type": "code",
   "execution_count": 18,
   "metadata": {},
   "outputs": [
    {
     "data": {
      "text/plain": [
       "[-2.685510165162846,\n",
       " -2.5485149479215528,\n",
       " -2.4002118113237896,\n",
       " -0.7089410427986523,\n",
       " -0.17173401423357063,\n",
       " 0.17173401423357224,\n",
       " 0.7089410427986518,\n",
       " 2.40021181132379,\n",
       " 2.5485149479215536,\n",
       " 2.6855101651628432]"
      ]
     },
     "execution_count": 18,
     "metadata": {},
     "output_type": "execute_result"
    }
   ],
   "source": [
    "eigs_Harper(3, 10, -1)"
   ]
  },
  {
   "cell_type": "markdown",
   "metadata": {},
   "source": [
    "Define data for plotting both above Hofstadter butterflies on the same figure. Since the points of `data_global[1]` are colored in red,\n",
    "we'll see that the blue points are covered by the red ones. \n",
    "At the plotting scale a distance of 0.0x between points is imperceptible."
   ]
  },
  {
   "cell_type": "code",
   "execution_count": null,
   "metadata": {},
   "outputs": [],
   "source": [
    "data_global=[get_butterfly_trace(phi1, E1, text1), get_butterfly_trace(phi_m1, E_m1, text_m1, color='red')]\n",
    "fw_global=go.FigureWidget(data=data_global, layout=layout)\n",
    "fw_global.layout.title='Hofstadter Butterfly'"
   ]
  },
  {
   "cell_type": "code",
   "execution_count": null,
   "metadata": {},
   "outputs": [],
   "source": [
    "fw_global"
   ]
  }
 ],
 "metadata": {
  "kernelspec": {
   "display_name": "Python 3",
   "language": "python",
   "name": "python3"
  },
  "language_info": {
   "codemirror_mode": {
    "name": "ipython",
    "version": 3
   },
   "file_extension": ".py",
   "mimetype": "text/x-python",
   "name": "python",
   "nbconvert_exporter": "python",
   "pygments_lexer": "ipython3",
   "version": "3.6.4"
  }
 },
 "nbformat": 4,
 "nbformat_minor": 2
}
